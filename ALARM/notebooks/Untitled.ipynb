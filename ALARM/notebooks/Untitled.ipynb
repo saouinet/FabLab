{
 "cells": [
  {
   "cell_type": "code",
   "execution_count": 1,
   "metadata": {},
   "outputs": [],
   "source": [
    "import xml.etree.ElementTree as ET\n",
    "import pandas as pd\n",
    "import paho.mqtt.client as mqtt\n",
    "import os"
   ]
  },
  {
   "cell_type": "code",
   "execution_count": 63,
   "metadata": {},
   "outputs": [
    {
     "name": "stdout",
     "output_type": "stream",
     "text": [
      "log:  Sending CONNECT (u0, p0, wr0, wq0, wf0, c1, k60) client_id=b'Poste1'\n",
      "log:  Sending PUBLISH (d0, q1, r0, m1), 'b'05555666/'', ... (13 bytes)\n"
     ]
    },
    {
     "data": {
      "text/plain": [
       "<paho.mqtt.client.MQTTMessageInfo at 0x204feff0598>"
      ]
     },
     "execution_count": 63,
     "metadata": {},
     "output_type": "execute_result"
    }
   ],
   "source": [
    "client =mqtt.Client(\"Poste1\")\n",
    "def on_log(client, userdata, level, buf):\n",
    "    print(\"log: \",buf)\n",
    "client.on_log=on_log\n",
    "client.connect(\"127.0.0.1\",1883) #connect to broker\n",
    "client.publish(\"05555666/\", qos=1,payload=\"(100,100,100)\")#publish\n"
   ]
  },
  {
   "cell_type": "code",
   "execution_count": 5,
   "metadata": {},
   "outputs": [],
   "source": [
    "def publishIdents():\n",
    "    [client.publish(id,\"(100,100,100)\") for id in generateDict(\"09462790\")]\n",
    "\n",
    "def parseFiles(path = '.\\\\',extenstion='.XML'):\n",
    "    # r=root, d=directories, f = files\n",
    "    for r, d, f in os.walk(path):\n",
    "        for file in f:\n",
    "            if extenstion in file:\n",
    "                yield os.path.join(r, file)\n",
    "\n",
    "\n",
    "def BarcodeToOF(code):\n",
    "    return \"ZTP_FILE_\"+\"0000\"+code[:8]+\".XML\"\n",
    "\n",
    "def generateDict(OF):\n",
    "    mappingFile = BarcodeToOF(OF)\n",
    "    tree = ET.parse(mappingFile)\n",
    "    root = tree.getroot()\n",
    "    for neighbor in root.iter('IDNRK'):\n",
    "        yield neighbor.text\n",
    "    \n"
   ]
  },
  {
   "cell_type": "code",
   "execution_count": 55,
   "metadata": {},
   "outputs": [],
   "source": [
    "publishIdents()"
   ]
  },
  {
   "cell_type": "code",
   "execution_count": null,
   "metadata": {},
   "outputs": [],
   "source": [
    "[{\"id\":\"e4f44718.a13618\",\"type\":\"tab\",\"label\":\"Poste\",\"disabled\":false,\"info\":\"\"},{\"id\":\"675cd166.055c8\",\"type\":\"tab\",\"label\":\"Ilot\",\"disabled\":false,\"info\":\"\"},{\"id\":\"3bc86450.acc59c\",\"type\":\"mqtt-broker\",\"z\":\"\",\"name\":\"\",\"broker\":\"localhost\",\"port\":\"1883\",\"clientid\":\"mqtt\",\"usetls\":false,\"compatmode\":true,\"keepalive\":\"60\",\"cleansession\":true,\"birthTopic\":\"\",\"birthQos\":\"0\",\"birthPayload\":\"\",\"closeTopic\":\"\",\"closeQos\":\"0\",\"closePayload\":\"\",\"willTopic\":\"\",\"willQos\":\"0\",\"willPayload\":\"\"},{\"id\":\"bc59f2c9.ddb1b\",\"type\":\"ui_tab\",\"z\":\"\",\"name\":\"Home\",\"icon\":\"dashboard\",\"disabled\":false,\"hidden\":false},{\"id\":\"8caacf42.597ce\",\"type\":\"ui_tab\",\"z\":\"\",\"name\":\"La course Bürkert\",\"icon\":\"dashboard\",\"disabled\":false,\"hidden\":false},{\"id\":\"78679e92.72858\",\"type\":\"ui_group\",\"z\":\"\",\"name\":\"La Machine à Cocktail Bürkert\",\"tab\":\"8caacf42.597ce\",\"disp\":true,\"width\":\"6\",\"collapse\":false},{\"id\":\"36ed3d92.392452\",\"type\":\"ui_base\",\"theme\":{\"name\":\"theme-light\",\"lightTheme\":{\"default\":\"#0094CE\",\"baseColor\":\"#0094CE\",\"baseFont\":\"-apple-system,BlinkMacSystemFont,Segoe UI,Roboto,Oxygen-Sans,Ubuntu,Cantarell,Helvetica Neue,sans-serif\",\"edited\":true,\"reset\":false},\"darkTheme\":{\"default\":\"#097479\",\"baseColor\":\"#097479\",\"baseFont\":\"-apple-system,BlinkMacSystemFont,Segoe UI,Roboto,Oxygen-Sans,Ubuntu,Cantarell,Helvetica Neue,sans-serif\",\"edited\":false},\"customTheme\":{\"name\":\"Untitled Theme 1\",\"default\":\"#4B7930\",\"baseColor\":\"#4B7930\",\"baseFont\":\"-apple-system,BlinkMacSystemFont,Segoe UI,Roboto,Oxygen-Sans,Ubuntu,Cantarell,Helvetica Neue,sans-serif\"},\"themeState\":{\"base-color\":{\"default\":\"#0094CE\",\"value\":\"#0094CE\",\"edited\":false},\"page-titlebar-backgroundColor\":{\"value\":\"#0094CE\",\"edited\":false},\"page-backgroundColor\":{\"value\":\"#fafafa\",\"edited\":false},\"page-sidebar-backgroundColor\":{\"value\":\"#ffffff\",\"edited\":false},\"group-textColor\":{\"value\":\"#1bbfff\",\"edited\":false},\"group-borderColor\":{\"value\":\"#ffffff\",\"edited\":false},\"group-backgroundColor\":{\"value\":\"#ffffff\",\"edited\":false},\"widget-textColor\":{\"value\":\"#111111\",\"edited\":false},\"widget-backgroundColor\":{\"value\":\"#0094ce\",\"edited\":false},\"widget-borderColor\":{\"value\":\"#ffffff\",\"edited\":false},\"base-font\":{\"value\":\"-apple-system,BlinkMacSystemFont,Segoe UI,Roboto,Oxygen-Sans,Ubuntu,Cantarell,Helvetica Neue,sans-serif\"}},\"angularTheme\":{\"primary\":\"indigo\",\"accents\":\"blue\",\"warn\":\"red\",\"background\":\"grey\"}},\"site\":{\"name\":\"Node-RED Dashboard\",\"hideToolbar\":\"false\",\"allowSwipe\":\"false\",\"lockMenu\":\"false\",\"allowTempTheme\":\"true\",\"dateFormat\":\"DD/MM/YYYY\",\"sizes\":{\"sx\":48,\"sy\":48,\"gx\":6,\"gy\":6,\"cx\":6,\"cy\":6,\"px\":0,\"py\":0}}},{\"id\":\"7ced562e.28d278\",\"type\":\"mqtt in\",\"z\":\"675cd166.055c8\",\"name\":\"\",\"topic\":\"560387\",\"qos\":\"0\",\"broker\":\"3bc86450.acc59c\",\"x\":200,\"y\":120,\"wires\":[[\"97b622ed.adaac\"]]},{\"id\":\"97b622ed.adaac\",\"type\":\"debug\",\"z\":\"675cd166.055c8\",\"name\":\"\",\"active\":true,\"tosidebar\":true,\"console\":false,\"tostatus\":false,\"complete\":\"false\",\"x\":380,\"y\":140,\"wires\":[]},{\"id\":\"bd67704f.878c1\",\"type\":\"inject\",\"z\":\"e4f44718.a13618\",\"name\":\"\",\"topic\":\"\",\"payload\":\"(100,100,100)\",\"payloadType\":\"str\",\"repeat\":\"\",\"crontab\":\"\",\"once\":false,\"onceDelay\":0.1,\"x\":150,\"y\":160,\"wires\":[[\"dbe792e.929c47\",\"bd6fb531.641438\",\"253f3ccc.808ed4\"]]},{\"id\":\"9fefac64.d1392\",\"type\":\"mqtt in\",\"z\":\"675cd166.055c8\",\"name\":\"\",\"topic\":\"564741\",\"qos\":\"0\",\"broker\":\"3bc86450.acc59c\",\"x\":190,\"y\":180,\"wires\":[[\"97b622ed.adaac\"]]},{\"id\":\"d37eb480.c8ffd8\",\"type\":\"mqtt in\",\"z\":\"675cd166.055c8\",\"name\":\"\",\"topic\":\"564739\",\"qos\":\"0\",\"broker\":\"3bc86450.acc59c\",\"x\":210,\"y\":240,\"wires\":[[\"97b622ed.adaac\"]]},{\"id\":\"ed82f7.a6933d08\",\"type\":\"mqtt in\",\"z\":\"675cd166.055c8\",\"name\":\"\",\"topic\":\"560388\",\"qos\":\"0\",\"broker\":\"3bc86450.acc59c\",\"x\":190,\"y\":320,\"wires\":[[\"97b622ed.adaac\"]]},{\"id\":\"45379f8e.3cd06\",\"type\":\"mqtt in\",\"z\":\"675cd166.055c8\",\"name\":\"\",\"topic\":\"564740\",\"qos\":\"0\",\"broker\":\"3bc86450.acc59c\",\"x\":210,\"y\":380,\"wires\":[[\"97b622ed.adaac\"]]},{\"id\":\"dbe792e.929c47\",\"type\":\"mqtt out\",\"z\":\"e4f44718.a13618\",\"name\":\"\",\"topic\":\"564741\",\"qos\":\"\",\"retain\":\"\",\"broker\":\"3bc86450.acc59c\",\"x\":330,\"y\":120,\"wires\":[]},{\"id\":\"bd6fb531.641438\",\"type\":\"mqtt out\",\"z\":\"e4f44718.a13618\",\"name\":\"\",\"topic\":\"564739\",\"qos\":\"\",\"retain\":\"\",\"broker\":\"3bc86450.acc59c\",\"x\":340,\"y\":160,\"wires\":[]},{\"id\":\"253f3ccc.808ed4\",\"type\":\"mqtt out\",\"z\":\"e4f44718.a13618\",\"name\":\"\",\"topic\":\"560388\",\"qos\":\"\",\"retain\":\"\",\"broker\":\"3bc86450.acc59c\",\"x\":340,\"y\":220,\"wires\":[]},{\"id\":\"4d114c.bc5c2eb4\",\"type\":\"inject\",\"z\":\"e4f44718.a13618\",\"name\":\"\",\"topic\":\"\",\"payload\":\"(0,0,0)\",\"payloadType\":\"str\",\"repeat\":\"\",\"crontab\":\"\",\"once\":false,\"onceDelay\":0.1,\"x\":110,\"y\":240,\"wires\":[[\"dbe792e.929c47\",\"bd6fb531.641438\",\"253f3ccc.808ed4\"]]}]"
   ]
  },
  {
   "cell_type": "code",
   "execution_count": 28,
   "metadata": {},
   "outputs": [
    {
     "ename": "TypeError",
     "evalue": "not enough arguments for format string",
     "output_type": "error",
     "traceback": [
      "\u001b[1;31m---------------------------------------------------------------------------\u001b[0m",
      "\u001b[1;31mTypeError\u001b[0m                                 Traceback (most recent call last)",
      "\u001b[1;32m<ipython-input-28-932744bec8c3>\u001b[0m in \u001b[0;36m<module>\u001b[1;34m()\u001b[0m\n\u001b[0;32m      1\u001b[0m \u001b[1;32mfrom\u001b[0m \u001b[0mIPython\u001b[0m\u001b[1;33m.\u001b[0m\u001b[0mcore\u001b[0m\u001b[1;33m.\u001b[0m\u001b[0mdisplay\u001b[0m \u001b[1;32mimport\u001b[0m \u001b[0mdisplay\u001b[0m\u001b[1;33m,\u001b[0m \u001b[0mHTML\u001b[0m\u001b[1;33m\u001b[0m\u001b[0m\n\u001b[0;32m      2\u001b[0m \u001b[1;33m\u001b[0m\u001b[0m\n\u001b[1;32m----> 3\u001b[1;33m \u001b[0mHTML\u001b[0m\u001b[1;33m(\u001b[0m\u001b[1;34m\"\"\"<img src='https://barcode.tec-it.com/barcode.ashx?data=%s&code=Code128&multiplebarcodes=true&translate-esc=false&unit=Fit&dpi=96&imagetype=Gif&rotation=0&color=%23000000&bgcolor=%23ffffff&qunit=Mm&quiet=0' alt='Barcode Generator TEC-IT'/>\"\"\"\u001b[0m \u001b[1;33m%\u001b[0m\u001b[1;34m\"ABC\"\u001b[0m\u001b[1;33m)\u001b[0m\u001b[1;33m\u001b[0m\u001b[0m\n\u001b[0m",
      "\u001b[1;31mTypeError\u001b[0m: not enough arguments for format string"
     ]
    }
   ],
   "source": [
    "from IPython.core.display import display, HTML\n",
    "\n",
    "HTML(\"\"\"<img src='https://barcode.tec-it.com/barcode.ashx?data=%s&code=Code128&multiplebarcodes=true&translate-esc=false&unit=Fit&dpi=96&imagetype=Gif&rotation=0&color=%23000000&bgcolor=%23ffffff&qunit=Mm&quiet=0' alt='Barcode Generator TEC-IT'/>\"\"\" %\"ABC\")"
   ]
  },
  {
   "cell_type": "code",
   "execution_count": 25,
   "metadata": {},
   "outputs": [
    {
     "data": {
      "text/html": [
       "<tr>\n",
       "<td><img src=\"20190719_080855.jpg\" style=\"transform:rotate(90deg);height:250px;\" ></td>\n",
       "<td><img src=\"20190719_080905.jpg\" style=\"\"></td>\n",
       "<td><img src=\"20190719_080943.jpg\" style=\"transform:rotate(90deg);height:250px;\"></td>\n",
       "</tr>"
      ],
      "text/plain": [
       "<IPython.core.display.HTML object>"
      ]
     },
     "metadata": {},
     "output_type": "display_data"
    }
   ],
   "source": [
    "%%HTML\n",
    "<tr>\n",
    "<td><img src=\"20190719_080855.jpg\" style=\"transform:rotate(90deg);height:250px;\" ></td>\n",
    "<td><img src=\"20190719_080905.jpg\" style=\"\"></td>\n",
    "<td><img src=\"20190719_080943.jpg\" style=\"transform:rotate(90deg);height:250px;\"></td>\n",
    "</tr>"
   ]
  },
  {
   "cell_type": "code",
   "execution_count": 44,
   "metadata": {},
   "outputs": [
    {
     "data": {
      "text/plain": [
       "{'560740': [565605,\n",
       "  565606,\n",
       "  565615,\n",
       "  565616,\n",
       "  566568,\n",
       "  566569,\n",
       "  566570,\n",
       "  566571,\n",
       "  566605,\n",
       "  566606,\n",
       "  566615,\n",
       "  566616,\n",
       "  566915,\n",
       "  567042,\n",
       "  567199,\n",
       "  567200,\n",
       "  567478,\n",
       "  567479,\n",
       "  567480,\n",
       "  567481,\n",
       "  567482,\n",
       "  567483,\n",
       "  567584,\n",
       "  567832,\n",
       "  568080,\n",
       "  568567,\n",
       "  569298,\n",
       "  569818,\n",
       "  569996,\n",
       "  570499,\n",
       "  570792],\n",
       " '560387': [560860,\n",
       "  560861,\n",
       "  560862,\n",
       "  560863,\n",
       "  560864,\n",
       "  560865,\n",
       "  561860,\n",
       "  561861,\n",
       "  561862,\n",
       "  561863,\n",
       "  561864,\n",
       "  561865,\n",
       "  562743,\n",
       "  563457,\n",
       "  563459],\n",
       " '564741': [565601,\n",
       "  565602,\n",
       "  565611,\n",
       "  565612,\n",
       "  566560,\n",
       "  566561,\n",
       "  566562,\n",
       "  566563,\n",
       "  566601,\n",
       "  566602,\n",
       "  566611,\n",
       "  566612,\n",
       "  567048,\n",
       "  567643,\n",
       "  569295,\n",
       "  569296,\n",
       "  569299,\n",
       "  570633],\n",
       " '560388': [560836,\n",
       "  560870,\n",
       "  560871,\n",
       "  560872,\n",
       "  560873,\n",
       "  560874,\n",
       "  560875,\n",
       "  561870,\n",
       "  561871,\n",
       "  561872,\n",
       "  561873,\n",
       "  561874,\n",
       "  561875,\n",
       "  562788,\n",
       "  563458,\n",
       "  563460,\n",
       "  567365],\n",
       " '564739': [565603,\n",
       "  565604,\n",
       "  565613,\n",
       "  565614,\n",
       "  566564,\n",
       "  566565,\n",
       "  566566,\n",
       "  566567,\n",
       "  566603,\n",
       "  566604,\n",
       "  566613,\n",
       "  566614,\n",
       "  567192,\n",
       "  569256,\n",
       "  569586,\n",
       "  569995,\n",
       "  570012,\n",
       "  570073,\n",
       "  570124,\n",
       "  570174]}"
      ]
     },
     "execution_count": 44,
     "metadata": {},
     "output_type": "execute_result"
    }
   ],
   "source": [
    "idents_ilot1 = [f[21:27] for f in parseFiles(\".//\",\".XLSX\")]\n",
    "cas_emploie={}\n",
    "for i,ce in enumerate(idents_ilot1):\n",
    "    cas_emploie[ce]=list(pd.read_excel([f for f in parseFiles(\".//\",\".XLSX\")][i])[\"N° composante\"])\n",
    "\n",
    "cas_emploie\n"
   ]
  },
  {
   "cell_type": "code",
   "execution_count": 26,
   "metadata": {},
   "outputs": [
    {
     "data": {
      "text/plain": [
       "['560740', '560387', '564741', '560388', '564739']"
      ]
     },
     "execution_count": 26,
     "metadata": {},
     "output_type": "execute_result"
    }
   ],
   "source": []
  },
  {
   "cell_type": "code",
   "execution_count": null,
   "metadata": {},
   "outputs": [],
   "source": []
  }
 ],
 "metadata": {
  "kernelspec": {
   "display_name": "Python 3",
   "language": "python",
   "name": "python3"
  },
  "language_info": {
   "codemirror_mode": {
    "name": "ipython",
    "version": 3
   },
   "file_extension": ".py",
   "mimetype": "text/x-python",
   "name": "python",
   "nbconvert_exporter": "python",
   "pygments_lexer": "ipython3",
   "version": "3.7.4"
  }
 },
 "nbformat": 4,
 "nbformat_minor": 4
}
