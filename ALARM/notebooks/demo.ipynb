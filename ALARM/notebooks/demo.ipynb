{
 "cells": [
  {
   "cell_type": "code",
   "execution_count": 3,
   "metadata": {},
   "outputs": [
    {
     "name": "stdout",
     "output_type": "stream",
     "text": [
      "\u001b[34mConnecting to --port=/dev/ttyUSB0 --baud=115200 \u001b[0m\n",
      "\u001b[34mReady.\n",
      "\u001b[0m"
     ]
    }
   ],
   "source": [
    "%serialconnect to --port=/dev/ttyUSB0 --baud=115200"
   ]
  },
  {
   "cell_type": "code",
   "execution_count": 4,
   "metadata": {},
   "outputs": [
    {
     "name": "stdout",
     "output_type": "stream",
     "text": [
      "[(b'raspi-poste1', b\"\\xb8'\\xeb\\xb1=u\", 1, -51, 3, False), (b'Fablab-inspirateur', b'\\xb0\\x98+\\xcb\\xc9n', 6, -64, 4, False), (b'orange', b'\\xb2\\x98+\\xcb\\xc9n', 6, -65, 0, False), (b'LInspirateur', b'\\xcc@\\xd0\\r\\xc0\\xad', 11, -90, 3, False), (b'raspi-webgui', b\"\\xb8'\\xebx9\\x07\", 1, -92, 2, False)]\n"
     ]
    }
   ],
   "source": [
    "import machine\n",
    "import network\n",
    "sta_if = network.WLAN(network.STA_IF)\n",
    "sta_if.active(True)\n",
    "print(sta_if.scan())"
   ]
  },
  {
   "cell_type": "code",
   "execution_count": 5,
   "metadata": {},
   "outputs": [],
   "source": [
    "sta_if.connect(\"Fablab-inspirateur\",\"Choiseul.67220\")"
   ]
  },
  {
   "cell_type": "code",
   "execution_count": 6,
   "metadata": {},
   "outputs": [],
   "source": [
    "from umqtt.simple import MQTTClient\n",
    "client = MQTTClient('esp32_demo','192.168.1.2')\n",
    "client.connect()"
   ]
  },
  {
   "cell_type": "code",
   "execution_count": 7,
   "metadata": {},
   "outputs": [],
   "source": [
    "client.publish(\"temp\",\"20\")"
   ]
  },
  {
   "cell_type": "code",
   "execution_count": 8,
   "metadata": {},
   "outputs": [],
   "source": [
    "import utime"
   ]
  },
  {
   "cell_type": "code",
   "execution_count": 9,
   "metadata": {},
   "outputs": [
    {
     "name": "stdout",
     "output_type": "stream",
     "text": [
      "........................................"
     ]
    }
   ],
   "source": [
    "for i in range(100):\n",
    "    client.publish(\"temp\",\"%d\" %i)\n",
    "    utime.sleep(2)\n",
    "    "
   ]
  },
  {
   "cell_type": "code",
   "execution_count": null,
   "metadata": {},
   "outputs": [],
   "source": []
  }
 ],
 "metadata": {
  "kernelspec": {
   "display_name": "MicroPython - USB",
   "language": "micropython",
   "name": "micropython"
  },
  "language_info": {
   "codemirror_mode": "python",
   "file_extension": ".py",
   "mimetype": "text/python",
   "name": "micropython"
  }
 },
 "nbformat": 4,
 "nbformat_minor": 2
}
