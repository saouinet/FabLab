{
 "cells": [
  {
   "cell_type": "markdown",
   "metadata": {},
   "source": [
    "# test de lecture des paramètres de configuration\n"
   ]
  },
  {
   "cell_type": "code",
   "execution_count": 1,
   "metadata": {},
   "outputs": [],
   "source": [
    "def getConfig():\n",
    "    f = open(\"config.yaml\")\n",
    "    contenu = f.read()\n",
    "    f.close()\n",
    "    choix = contenu.split(\"\\n\")\n",
    "    config = {}\n",
    "    for kv in choix:\n",
    "        if kv != '':\n",
    "            key,val = kv.split(\":\")\n",
    "            config[key]=val.strip()\n",
    "    return config"
   ]
  },
  {
   "cell_type": "code",
   "execution_count": 3,
   "metadata": {},
   "outputs": [
    {
     "name": "stdout",
     "output_type": "stream",
     "text": [
      "ilot: /element\n",
      "chariot : /A\n",
      "broker : 10.3.141.1\n",
      "\n",
      "['ilot: /element', 'chariot : /A', 'broker : 10.3.141.1', '']\n"
     ]
    }
   ],
   "source": [
    "f = open(\"config.yaml\")\n",
    "contenu = f.read()\n",
    "print(contenu)\n",
    "choix = contenu.split(\"\\n\")\n",
    "print(choix)\n",
    "config = {}\n",
    "for kv in choix:\n",
    "        if kv != '':\n",
    "            key,val = kv.split(\":\")\n",
    "            config[key]=val\n",
    "f.close()"
   ]
  },
  {
   "cell_type": "code",
   "execution_count": 4,
   "metadata": {},
   "outputs": [
    {
     "data": {
      "text/plain": [
       "{'ilot': '/element', 'chariot ': '/A', 'broker ': '10.3.141.1'}"
      ]
     },
     "execution_count": 4,
     "metadata": {},
     "output_type": "execute_result"
    }
   ],
   "source": [
    "getConfig()"
   ]
  },
  {
   "cell_type": "code",
   "execution_count": null,
   "metadata": {},
   "outputs": [],
   "source": []
  }
 ],
 "metadata": {
  "kernelspec": {
   "display_name": "Python 3",
   "language": "python",
   "name": "python3"
  },
  "language_info": {
   "codemirror_mode": {
    "name": "ipython",
    "version": 3
   },
   "file_extension": ".py",
   "mimetype": "text/x-python",
   "name": "python",
   "nbconvert_exporter": "python",
   "pygments_lexer": "ipython3",
   "version": "3.7.4"
  }
 },
 "nbformat": 4,
 "nbformat_minor": 4
}
