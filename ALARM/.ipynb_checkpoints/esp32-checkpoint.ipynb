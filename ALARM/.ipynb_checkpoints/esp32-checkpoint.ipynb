{
 "cells": [
  {
   "cell_type": "code",
   "execution_count": 40,
   "metadata": {},
   "outputs": [
    {
     "name": "stdout",
     "output_type": "stream",
     "text": [
      "\u001b[34mConnecting to --port=/dev/ttyUSB1 --baud=115200 \u001b[0m\n",
      "\u001b[34mReady.\n",
      "\u001b[0m"
     ]
    }
   ],
   "source": [
    "%serialconnect to --port=/dev/ttyUSB1 --baud=115200"
   ]
  },
  {
   "cell_type": "markdown",
   "metadata": {},
   "source": [
    "à utiliser pour initialiser la carte esp32 : \n",
    "\n",
    "import network\n",
    "import upip\n",
    "\n",
    "sta_if = network.WLAN(network.STA_IF)\n",
    "sta_if.active(True)\n",
    "sta_if.connect(\"Wifi SSID\", \"Wifi password\")\n",
    "\n",
    "upip.install('micropython-umqtt.simple')"
   ]
  },
  {
   "cell_type": "code",
   "execution_count": 8,
   "metadata": {},
   "outputs": [],
   "source": [
    "import machine\n",
    "import neopixel\n",
    "import utime"
   ]
  },
  {
   "cell_type": "code",
   "execution_count": 9,
   "metadata": {},
   "outputs": [
    {
     "name": "stdout",
     "output_type": "stream",
     "text": [
      "object <module 'neopixel' from 'neopixel.py'> is of type module\n",
      "  neopixel_write -- <function>\n",
      "  NeoPixel -- <class 'NeoPixel'>\n",
      "  __name__ -- neopixel\n",
      "  __file__ -- neopixel.py\n"
     ]
    }
   ],
   "source": [
    "help(neopixel)"
   ]
  },
  {
   "cell_type": "markdown",
   "metadata": {},
   "source": [
    "# Connection au réseau wifi"
   ]
  },
  {
   "cell_type": "code",
   "execution_count": 41,
   "metadata": {},
   "outputs": [],
   "source": [
    "import network"
   ]
  },
  {
   "cell_type": "code",
   "execution_count": 42,
   "metadata": {},
   "outputs": [],
   "source": [
    "sta_if = network.WLAN(network.STA_IF)"
   ]
  },
  {
   "cell_type": "code",
   "execution_count": 43,
   "metadata": {},
   "outputs": [],
   "source": [
    "sta_if.active(True)"
   ]
  },
  {
   "cell_type": "code",
   "execution_count": 18,
   "metadata": {},
   "outputs": [],
   "source": [
    "sta_if.connect(\"Fablab-inspirateur\",\"Choiseul.67220\")"
   ]
  },
  {
   "cell_type": "code",
   "execution_count": 19,
   "metadata": {},
   "outputs": [],
   "source": [
    "import upip"
   ]
  },
  {
   "cell_type": "code",
   "execution_count": 20,
   "metadata": {},
   "outputs": [
    {
     "name": "stdout",
     "output_type": "stream",
     "text": [
      "Installing to: /lib/\n",
      "Warning: micropython.org SSL certificate is not validated\n",
      "Installing micropython-umqtt.robust 1.0.1 from https://micropython.org/pi/umqtt.robust/umqtt.robust-1.0.1.tar.gz\n",
      "."
     ]
    }
   ],
   "source": [
    "upip.install(\"micropython-umqtt.robust\")"
   ]
  },
  {
   "cell_type": "markdown",
   "metadata": {},
   "source": [
    "# Test des Neopixels\n",
    "attention: si le 4iem octet est fort, la couleur tends vers le blanc"
   ]
  },
  {
   "cell_type": "code",
   "execution_count": 10,
   "metadata": {},
   "outputs": [],
   "source": [
    "Leds=neopixel.NeoPixel(machine.Pin(4),15)"
   ]
  },
  {
   "cell_type": "code",
   "execution_count": 11,
   "metadata": {},
   "outputs": [],
   "source": [
    "def blink(leds,pos,color=(100,100,100)):\n",
    "    on=color\n",
    "    off=(0,0,0,)\n",
    "    utime.sleep_ms(500)\n",
    "    leds[pos]=color\n",
    "    leds.write()\n",
    "    utime.sleep_ms(500)\n",
    "    leds[pos]=off\n",
    "    leds.write()"
   ]
  },
  {
   "cell_type": "code",
   "execution_count": 12,
   "metadata": {},
   "outputs": [
    {
     "name": "stdout",
     "output_type": "stream",
     "text": [
      "....\u001b[34m\n",
      "\n",
      "*** Sending Ctrl-C\n",
      "\n",
      "\u001b[0m"
     ]
    },
    {
     "name": "stderr",
     "output_type": "stream",
     "text": [
      "Traceback (most recent call last):\n",
      "  File \"<stdin>\", line 2, in <module>\n",
      "  File \"<stdin>\", line 4, in blink\n",
      "KeyboardInterrupt: \n"
     ]
    }
   ],
   "source": [
    "while 1:\n",
    "    blink(Leds,1,(100,0,0))\n",
    "    blink(Leds,0,(0,100,0))"
   ]
  },
  {
   "cell_type": "code",
   "execution_count": 5,
   "metadata": {},
   "outputs": [],
   "source": [
    "Leds=neopixel.NeoPixel(machine.Pin(4),5,bpp=4)"
   ]
  },
  {
   "cell_type": "code",
   "execution_count": 6,
   "metadata": {},
   "outputs": [],
   "source": [
    "Leds=neopixel.NeoPixel(machine.Pin(4),12,bpp=4)"
   ]
  },
  {
   "cell_type": "code",
   "execution_count": 7,
   "metadata": {},
   "outputs": [],
   "source": [
    "Leds[0]=(100,0,0,0)"
   ]
  },
  {
   "cell_type": "code",
   "execution_count": 8,
   "metadata": {},
   "outputs": [],
   "source": [
    "Leds[1]=(100,00,00,0)"
   ]
  },
  {
   "cell_type": "code",
   "execution_count": 9,
   "metadata": {},
   "outputs": [],
   "source": [
    "Leds[2]=(100,0,00,200)"
   ]
  },
  {
   "cell_type": "code",
   "execution_count": 10,
   "metadata": {},
   "outputs": [],
   "source": [
    "Leds[0]=(0,0,0,0)\n",
    "Leds[1]=(0,0,0,0)\n",
    "Leds[2]=(0,0,0,0)"
   ]
  },
  {
   "cell_type": "code",
   "execution_count": 160,
   "metadata": {},
   "outputs": [],
   "source": [
    "Leds.write()"
   ]
  },
  {
   "cell_type": "code",
   "execution_count": 163,
   "metadata": {},
   "outputs": [],
   "source": [
    "def blink(leds,pos,color=(100,100,100,0)):\n",
    "    on=color\n",
    "    off=(0,0,0,0)\n",
    "    utime.sleep_ms(500)\n",
    "    leds[pos]=color\n",
    "    leds.write()\n",
    "    utime.sleep_ms(500)\n",
    "    leds[pos]=off\n",
    "    leds.write()"
   ]
  },
  {
   "cell_type": "code",
   "execution_count": 164,
   "metadata": {},
   "outputs": [
    {
     "name": "stdout",
     "output_type": "stream",
     "text": [
      "...........................................................................................................................................................................................................................................................................................................................................................................................................................................................................................................................................................................................................................................................................................................................................................................................................................................................................................................................................................................\n",
      "**[ys] <class 'serial.serialutil.SerialException'>\n",
      "**[ys] read failed: device reports readiness to read but returned no data (device disconnected or multiple access on port?)\n",
      "\n",
      "\n",
      "**[ys] <class 'serial.serialutil.SerialException'>\n",
      "**[ys] read failed: device reports readiness to read but returned no data (device disconnected or multiple access on port?)\n",
      "\n"
     ]
    }
   ],
   "source": [
    "while 1:\n",
    "    blink(Leds,1)\n",
    "    blink(Leds,0)\n"
   ]
  },
  {
   "cell_type": "code",
   "execution_count": 44,
   "metadata": {},
   "outputs": [
    {
     "name": "stdout",
     "output_type": "stream",
     "text": [
      "[(b'Tele du salon.b', b'\\xfa\\x8f\\xca~\\x88\\xb7', 6, -65, 0, False), (b'ESP_5A447D', b'\\x86\\xf3\\xebZD}', 11, -73, 0, False), (b'AouinetBoehler', b\"4'\\x92\\xd3\\xe9\\xc8\", 11, -74, 2, False), (b'raspi-poste1', b\"\\xb8'\\xeb\\xb1=u\", 6, -78, 3, False), (b'Livebox-4DD6', b'0|\\xb2\\xc8M\\xd6', 1, -90, 3, False), (b'Bbox-66751684', b'\\xd0W\\x94\\x07\\xa0\\x10', 1, -91, 4, False), (b'freebox_AVCI', b'\\xf4\\xca\\xe5\\xc2\\x9aH', 12, -94, 2, False), (b'FreeWifi_secure', b'\\xf4\\xca\\xe5\\xc2\\x9aJ', 12, -94, 5, False), (b'FreeWifi', b'\\xf4\\xca\\xe5\\xc2\\x9aI', 12, -95, 0, False)]\n"
     ]
    }
   ],
   "source": [
    "print(sta_if.scan())"
   ]
  },
  {
   "cell_type": "code",
   "execution_count": 45,
   "metadata": {},
   "outputs": [],
   "source": [
    "sta_if.connect(\"raspi-poste1\",\"Burkert67\")"
   ]
  },
  {
   "cell_type": "code",
   "execution_count": 46,
   "metadata": {},
   "outputs": [],
   "source": [
    "sta_if.ifconfig()"
   ]
  },
  {
   "cell_type": "code",
   "execution_count": 93,
   "metadata": {},
   "outputs": [],
   "source": [
    "Idents=[b\"560387\",b\"2\",b\"3\",b\"4\",b\"5\"]"
   ]
  },
  {
   "cell_type": "code",
   "execution_count": 10,
   "metadata": {},
   "outputs": [
    {
     "name": "stderr",
     "output_type": "stream",
     "text": [
      "Traceback (most recent call last):\n",
      "  File \"<stdin>\", line 1, in <module>\n",
      "NameError: name 'Idents' isn't defined\n"
     ]
    }
   ],
   "source": [
    "print(len(Idents))"
   ]
  },
  {
   "cell_type": "markdown",
   "metadata": {},
   "source": [
    "# Client MQTT"
   ]
  },
  {
   "cell_type": "code",
   "execution_count": 37,
   "metadata": {},
   "outputs": [],
   "source": [
    "from umqtt.robust import MQTTClient"
   ]
  },
  {
   "cell_type": "code",
   "execution_count": 47,
   "metadata": {},
   "outputs": [],
   "source": [
    "client = MQTTClient('esp32_01','10.3.141.1')\n",
    "client.connect()"
   ]
  },
  {
   "cell_type": "code",
   "execution_count": 48,
   "metadata": {},
   "outputs": [],
   "source": [
    "def sub_cb(topic,payload):\n",
    "    global Leds\n",
    "    off = (0,0,0,0)\n",
    "    on = (100,100,100,0)\n",
    "    size = len(Idents)\n",
    "    if topic==b\"off\":\n",
    "        for i in range(size):\n",
    "            Leds[i]=off\n",
    "    else:\n",
    "        Leds[int(payload)-1]=on\n",
    "    utime.sleep_ms(100)\n",
    "    Leds.write()\n"
   ]
  },
  {
   "cell_type": "code",
   "execution_count": 49,
   "metadata": {},
   "outputs": [],
   "source": [
    "client.set_callback(sub_cb)"
   ]
  },
  {
   "cell_type": "code",
   "execution_count": 50,
   "metadata": {},
   "outputs": [],
   "source": [
    "client.subscribe(b\"off\")\n",
    "client.subscribe(b\"ilot1\")"
   ]
  },
  {
   "cell_type": "code",
   "execution_count": 55,
   "metadata": {},
   "outputs": [],
   "source": [
    "client.publish(\"ilot1\",\"ok\")"
   ]
  },
  {
   "cell_type": "code",
   "execution_count": 53,
   "metadata": {},
   "outputs": [
    {
     "name": "stdout",
     "output_type": "stream",
     "text": [
      ".....................\u001b[34m\n",
      "\n",
      "*** Sending Ctrl-C\n",
      "\n",
      "\u001b[0m"
     ]
    },
    {
     "name": "stderr",
     "output_type": "stream",
     "text": [
      "Traceback (most recent call last):\n",
      "  File \"<stdin>\", line 2, in <module>\n",
      "  File \"umqtt/simple.py\", line 204, in check_msg\n",
      "  File \"umqtt/robust.py\", line 42, in wait_msg\n",
      "  File \"umqtt/robust.py\", line 40, in wait_msg\n",
      "  File \"umqtt/simple.py\", line 168, in wait_msg\n",
      "KeyboardInterrupt: \n"
     ]
    }
   ],
   "source": [
    "while 1 :\n",
    "    client.check_msg()"
   ]
  },
  {
   "cell_type": "markdown",
   "metadata": {},
   "source": [
    "# "
   ]
  }
 ],
 "metadata": {
  "kernelspec": {
   "display_name": "MicroPython - USB",
   "language": "micropython",
   "name": "micropython"
  },
  "language_info": {
   "codemirror_mode": "python",
   "file_extension": ".py",
   "mimetype": "text/python",
   "name": "micropython"
  }
 },
 "nbformat": 4,
 "nbformat_minor": 4
}
