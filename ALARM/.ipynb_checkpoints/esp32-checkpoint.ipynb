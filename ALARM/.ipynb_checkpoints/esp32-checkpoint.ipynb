{
 "cells": [
  {
   "cell_type": "code",
   "execution_count": 59,
   "metadata": {},
   "outputs": [
    {
     "name": "stdout",
     "output_type": "stream",
     "text": [
      "\u001b[34mConnecting to --port=/dev/ttyUSB0 --baud=115200 \u001b[0m\n",
      "b\"\\xdb\\xc9\\xdbd\\xdc\\xdeO'D\\xfb.\\x1e\\x07\\x11\\x03\""
     ]
    },
    {
     "name": "stderr",
     "output_type": "stream",
     "text": [
      "b'l\\x1bnD\\xdc\"\\xb7\\xe2\\xc4\\x03\\x01'b'\\xdc,n\\xe3\\xdb\\x03\\x8cn \\xdb\\xd9 n\\xe3\\xc4\\xfbr\\xdb\\x03dO\\xdb\\xa0 \\x00\\x0c'b'\\xc4'\f",
      "b'\\xc4$'b'\\xe4\\x1b'\f",
      "Db'\\xc4G'G\f",
      "Db'd\\x8cG$'Db'\\x8cG'b'\\x84`\\x1c\\x00'b'\\x8c'b'$d\\x0c\\xe4'Db'\\xc7\\xe4\\x8e\\x84\\xc7'b'\\x84\\x0c'b'\\x0cG\\xb4G'Db'\\xecG'D`Gb'\\x8c'b'$G\\xc7\\xf4'\f",
      "Db'\\x8cG\\x1c\\x00'\f",
      "b'\\x84\\x0c'$$\f",
      "D\f",
      "Gb'\\x8c`8\\x00'\f",
      "D\f",
      "b'\\x94G,'b'\\x8c'\f",
      "$d\f",
      "b'\\x84\\x0c$\\x8e$'b'\\x84\\x0c4'b'\\x84`8\\x00'b'\\x8c'b'\\x84\\xc7$'db'\\x84\\x0c'$\u0003\f",
      "b'\\xc4'\f",
      "b'\\x84\\x0c'b'\\xdb\\xa0\\x92\\xdb\\x91'\f",
      "b'$G\\x8c \\x1b\\xdb\\xd8$\\xe4'\f",
      "b'\\x8c{\\x03'b'\\x8c'b'$\\x8cG$\\xd8\\xc8'Db'\\x0c$\\xe4G\\xecI\\x1b\\xdb\\x8c'\f",
      "b'\\x84`\\x02\\x03;.<\\x87\\xa3'\u0002b'\\xc4$\\x0c\\xc4\\x8e'b'\\x0c$\\xc4G\\x8cG'\f",
      "b'\\x84\\xc7'b'\\xec'b'$d\\x8c \\x02\\x19\\xfbn\\xdfn#b\\x02'ets Jun  8 2016 00:22:57\n",
      "\n",
      "rst:0x10 (RTCWDT_RTC_RESET),boot:0x13 (SPI_FAST_FLASH_BOOT)\n",
      "configsip: 0, SPIWP:0xee\n",
      "clk_drv:0x00,q_drv:0x00,d_drv:0x00,cs0_drv:0x00,hd_drv:0x00,wp_drv:0x00\n",
      "mode:DIO, clock div:2\n",
      "load:0x3fff0018,len:4\n",
      "load:0x3fff001c,len:4928\n",
      "ho 0 tail 12 room 4\n",
      "load:0x40078000,len:9332\n",
      "load:0x40080400,len:6216\n",
      "entry 0x400806e8\n",
      "OSError: [Errno 2] ENOENT\n",
      "MicroPython v1.10-230-ge0c6dfe90 on 2019-03-23; ESP32 module with ESP32\n",
      "Type \"help()\" for more information.\n",
      ">>>"
     ]
    },
    {
     "name": "stdout",
     "output_type": "stream",
     "text": [
      "[reboot detected 121]repl is in normal command mode\n",
      "[\\r\\x03\\x03] b'\\r\\n>>> '\n",
      "[\\r\\x01] b'\\r\\n>>> \\r\\nraw REPL; CTRL-B to exit\\r\\n>'"
     ]
    },
    {
     "name": "stderr",
     "output_type": "stream",
     "text": [
      " "
     ]
    },
    {
     "name": "stdout",
     "output_type": "stream",
     "text": [
      "\u001b[34mReady.\n",
      "\u001b[0m"
     ]
    }
   ],
   "source": [
    "%serialconnect to --port=/dev/ttyUSB0 --baud=115200"
   ]
  },
  {
   "cell_type": "code",
   "execution_count": 60,
   "metadata": {},
   "outputs": [],
   "source": [
    "import machine\n",
    "import neopixel\n",
    "import utime"
   ]
  },
  {
   "cell_type": "code",
   "execution_count": 61,
   "metadata": {},
   "outputs": [
    {
     "name": "stdout",
     "output_type": "stream",
     "text": [
      "object <module 'neopixel'> is of type module\n",
      "  NeoPixel -- <class 'NeoPixel'>\n",
      "  __name__ -- neopixel\n",
      "  neopixel_write -- <function>\n"
     ]
    }
   ],
   "source": [
    "help(neopixel)"
   ]
  },
  {
   "cell_type": "markdown",
   "metadata": {},
   "source": [
    "# Test des Neopixels\n",
    "attention: si le 4iem octet est fort, la couleur tends vers le blanc"
   ]
  },
  {
   "cell_type": "code",
   "execution_count": 62,
   "metadata": {},
   "outputs": [],
   "source": [
    "Leds=neopixel.NeoPixel(machine.Pin(4),5,bpp=4)"
   ]
  },
  {
   "cell_type": "code",
   "execution_count": 63,
   "metadata": {},
   "outputs": [],
   "source": [
    "Leds[0]=(100,0,0,0)"
   ]
  },
  {
   "cell_type": "code",
   "execution_count": 64,
   "metadata": {},
   "outputs": [],
   "source": [
    "Leds[1]=(100,00,00,0)"
   ]
  },
  {
   "cell_type": "code",
   "execution_count": 65,
   "metadata": {},
   "outputs": [],
   "source": [
    "Leds[2]=(100,0,00,200)"
   ]
  },
  {
   "cell_type": "code",
   "execution_count": 8,
   "metadata": {},
   "outputs": [],
   "source": [
    "Leds[0]=(0,0,0,0)\n",
    "Leds[1]=(0,0,0,0)\n",
    "Leds[2]=(0,0,0,0)"
   ]
  },
  {
   "cell_type": "code",
   "execution_count": 66,
   "metadata": {},
   "outputs": [],
   "source": [
    "Leds.write()"
   ]
  },
  {
   "cell_type": "code",
   "execution_count": 67,
   "metadata": {},
   "outputs": [],
   "source": [
    "def blink(leds,pos,color=(100,100,100,0)):\n",
    "    on=color\n",
    "    off=(0,0,0)\n",
    "    utime.sleep_ms(500)\n",
    "    leds[pos]=color\n",
    "    leds.write()\n",
    "    utime.sleep_ms(500)\n",
    "    leds[pos]=off\n",
    "    leds.write()"
   ]
  },
  {
   "cell_type": "code",
   "execution_count": 69,
   "metadata": {},
   "outputs": [
    {
     "name": "stderr",
     "output_type": "stream",
     "text": [
      "Traceback (most recent call last):\n",
      "  File \"<stdin>\", line 2, in <module>\n",
      "  File \"<stdin>\", line 8, in blink\n",
      "  File \"neopixel.py\", line 21, in __setitem__\n",
      "IndexError: tuple index out of range\n"
     ]
    }
   ],
   "source": [
    "while 1:\n",
    "    blink(Leds,1)\n",
    "    blink(Leds,0)\n"
   ]
  },
  {
   "cell_type": "markdown",
   "metadata": {},
   "source": [
    "# Connection au réseau wifi"
   ]
  },
  {
   "cell_type": "code",
   "execution_count": 70,
   "metadata": {},
   "outputs": [],
   "source": [
    "import network"
   ]
  },
  {
   "cell_type": "code",
   "execution_count": 71,
   "metadata": {},
   "outputs": [],
   "source": [
    "sta_if = network.WLAN(network.STA_IF)"
   ]
  },
  {
   "cell_type": "code",
   "execution_count": 72,
   "metadata": {},
   "outputs": [],
   "source": [
    "sta_if.active(True)"
   ]
  },
  {
   "cell_type": "code",
   "execution_count": 73,
   "metadata": {},
   "outputs": [
    {
     "name": "stdout",
     "output_type": "stream",
     "text": [
      "[(b'raspi-poste1', b\"\\xb8'\\xeb\\xb1=u\", 1, -24, 3, False), (b'orange', b'\\xb2\\x98+\\xcb\\xc9n', 1, -69, 0, False), (b'Fablab-inspirateur', b'\\xb0\\x98+\\xcb\\xc9n', 1, -72, 4, False), (b'LInspirateur', b'\\xcc@\\xd0\\r\\xc0\\xad', 11, -92, 3, False)]\n"
     ]
    }
   ],
   "source": [
    "print(sta_if.scan())"
   ]
  },
  {
   "cell_type": "code",
   "execution_count": 74,
   "metadata": {},
   "outputs": [],
   "source": [
    "sta_if.connect(\"raspi-poste1\",\"Burkert67\")"
   ]
  },
  {
   "cell_type": "code",
   "execution_count": 93,
   "metadata": {},
   "outputs": [],
   "source": [
    "Idents=[b\"560387\",b\"2\",b\"3\",b\"4\",b\"5\"]"
   ]
  },
  {
   "cell_type": "code",
   "execution_count": 94,
   "metadata": {},
   "outputs": [
    {
     "name": "stdout",
     "output_type": "stream",
     "text": [
      "5\n"
     ]
    }
   ],
   "source": [
    "print(len(Idents))"
   ]
  },
  {
   "cell_type": "markdown",
   "metadata": {},
   "source": [
    "# Client MQTT"
   ]
  },
  {
   "cell_type": "code",
   "execution_count": 95,
   "metadata": {},
   "outputs": [],
   "source": [
    "from umqtt.simple import MQTTClient"
   ]
  },
  {
   "cell_type": "code",
   "execution_count": 96,
   "metadata": {},
   "outputs": [],
   "source": [
    "client = MQTTClient('esp32_01','10.3.141.1')\n",
    "client.connect()"
   ]
  },
  {
   "cell_type": "code",
   "execution_count": 112,
   "metadata": {},
   "outputs": [],
   "source": [
    "def sub_cb(topic,payload):\n",
    "    print(\"req\")\n",
    "    global Leds\n",
    "    global Idents\n",
    "    off = (0,0,0,0)\n",
    "    on = (100,100,100,0)\n",
    "    size = len(Idents)\n",
    "    if topic==b\"off\":\n",
    "        for i in range(size):\n",
    "            Leds[i]=off\n",
    "    if topic==b\"ilot_1\":\n",
    "        for i in range(size):\n",
    "            if payload==i:\n",
    "                print(topic,payload,i,Leds[i])\n",
    "            Leds[i]=on\n",
    "    utime.sleep_ms(100)\n",
    "    Leds.write()\n",
    "def sub_cb2(topic,payload):\n",
    "    print(\"req\")\n",
    "    global Leds\n",
    "    off = (0,0,0,0)\n",
    "    on = (100,100,100,0)\n",
    "    size = len(Idents)\n",
    "    if topic==b\"off\":\n",
    "        for i in range(size):\n",
    "            Leds[i]=off\n",
    "    Leds[int(payload)]=on\n",
    "    utime.sleep_ms(100)\n",
    "    Leds.write()\n"
   ]
  },
  {
   "cell_type": "code",
   "execution_count": 113,
   "metadata": {},
   "outputs": [],
   "source": [
    "client.set_callback(sub_cb2)"
   ]
  },
  {
   "cell_type": "code",
   "execution_count": 114,
   "metadata": {},
   "outputs": [
    {
     "name": "stdout",
     "output_type": "stream",
     "text": [
      "req\n",
      "b'ilot_1' b'2' 0 (0, 0, 0, 0)\n",
      "b'ilot_1' b'2' 1 (0, 0, 0, 0)\n",
      "b'ilot_1' b'2' 2 (100, 100, 100, 0)\n",
      "b'ilot_1' b'2' 3 (0, 0, 0, 0)\n",
      "b'ilot_1' b'2' 4 (0, 0, 0, 0)\n",
      "req\n",
      "b'off' b'0' 0 (0, 0, 0, 0)\n",
      "b'off' b'0' 1 (0, 0, 0, 0)\n",
      "b'off' b'0' 2 (0, 0, 0, 0)\n",
      "b'off' b'0' 3 (0, 0, 0, 0)\n",
      "b'off' b'0' 4 (0, 0, 0, 0)\n",
      "req\n",
      "b'off' b'0' 0 (0, 0, 0, 0)\n",
      "b'off' b'0' 1 (0, 0, 0, 0)\n",
      "b'off' b'0' 2 (0, 0, 0, 0)\n",
      "b'off' b'0' 3 (0, 0, 0, 0)\n",
      "b'off' b'0' 4 (0, 0, 0, 0)\n"
     ]
    }
   ],
   "source": [
    "#or i in range(len(Idents)):\n",
    "#   client.subscribe(Idents[i])\n",
    "client.subscribe(b\"off\")\n",
    "client.subscribe(b\"ilot_1\")"
   ]
  },
  {
   "cell_type": "code",
   "execution_count": 110,
   "metadata": {},
   "outputs": [],
   "source": [
    "client.publish(\"esp32_01\",\"ok\")"
   ]
  },
  {
   "cell_type": "code",
   "execution_count": 115,
   "metadata": {},
   "outputs": [
    {
     "name": "stdout",
     "output_type": "stream",
     "text": [
      "req\n",
      "b'ilot_1' b'4' 0 (100, 100, 100, 0)\n",
      "b'ilot_1' b'4' 1 (0, 0, 0, 0)\n",
      "b'ilot_1' b'4' 2 (0, 0, 0, 0)\n",
      "b'ilot_1' b'4' 3 (0, 0, 0, 0)\n",
      "b'ilot_1' b'4' 4 (100, 100, 100, 0)\n",
      "req\n",
      "b'ilot_1' b'4' 0 (100, 100, 100, 0)\n",
      "b'ilot_1' b'4' 1 (0, 0, 0, 0)\n",
      "b'ilot_1' b'4' 2 (0, 0, 0, 0)\n",
      "b'ilot_1' b'4' 3 (0, 0, 0, 0)\n",
      "b'ilot_1' b'4' 4 (100, 100, 100, 0)\n",
      "req\n",
      "b'ilot_1' b'4' 0 (100, 100, 100, 0)\n",
      "b'ilot_1' b'4' 1 (0, 0, 0, 0)\n",
      "b'ilot_1' b'4' 2 (0, 0, 0, 0)\n",
      "b'ilot_1' b'4' 3 (0, 0, 0, 0)\n",
      "b'ilot_1' b'4' 4 (100, 100, 100, 0)\n",
      ".req\n",
      "b'off' b'0' 0 (0, 0, 0, 0)\n",
      "b'off' b'0' 1 (0, 0, 0, 0)\n",
      "b'off' b'0' 2 (0, 0, 0, 0)\n",
      "b'off' b'0' 3 (0, 0, 0, 0)\n",
      "b'off' b'0' 4 (0, 0, 0, 0)\n",
      "req\n",
      "b'ilot_1' b'3' 0 (100, 100, 100, 0)\n",
      "b'ilot_1' b'3' 1 (0, 0, 0, 0)\n",
      "b'ilot_1' b'3' 2 (0, 0, 0, 0)\n",
      "b'ilot_1' b'3' 3 (100, 100, 100, 0)\n",
      "b'ilot_1' b'3' 4 (0, 0, 0, 0)\n",
      "........................req\n",
      "b'off' b'' 0 (0, 0, 0, 0)\n"
     ]
    },
    {
     "name": "stderr",
     "output_type": "stream",
     "text": [
      "Traceback (most recent call last):\n",
      "  File \"<stdin>\", line 2, in <module>\n",
      "  File \"umqtt/simple.py\", line 204, in check_msg\n",
      "  File \"umqtt/simple.py\", line 191, in wait_msg\n",
      "  File \"<stdin>\", line 29, in sub_cb2\n",
      "ValueError: invalid syntax for integer with base 10\n"
     ]
    }
   ],
   "source": [
    "while 1 :\n",
    "    client.check_msg()"
   ]
  },
  {
   "cell_type": "markdown",
   "metadata": {},
   "source": [
    "# "
   ]
  }
 ],
 "metadata": {
  "kernelspec": {
   "display_name": "MicroPython - USB",
   "language": "micropython",
   "name": "micropython"
  },
  "language_info": {
   "codemirror_mode": "python",
   "file_extension": ".py",
   "mimetype": "text/python",
   "name": "micropython"
  }
 },
 "nbformat": 4,
 "nbformat_minor": 2
}
