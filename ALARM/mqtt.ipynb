{
 "cells": [
  {
   "cell_type": "code",
   "execution_count": 19,
   "metadata": {},
   "outputs": [],
   "source": [
    "import paho.mqtt.client as mqtt"
   ]
  },
  {
   "cell_type": "code",
   "execution_count": 36,
   "metadata": {},
   "outputs": [],
   "source": [
    "client =mqtt.Client(\"esp\")\n",
    "client.connect(\"127.0.0.1\",1883) #connect to broker\n",
    "def onMessage(client, userdata, message):\n",
    "    print(\"message received \" ,str(message.payload.decode(\"utf-8\")))\n",
    "    print(\"message topic=\",message.topic)\n",
    "    print(\"message qos=\",message.qos)\n",
    "    print(\"message retain flag=\",message.retain)\n",
    "client.subscribe(\"05555666/\")#subscribe\n",
    "client.on_message=onMessage\n",
    "def on_log(client, userdata, level, buf):\n",
    "    print(\"log: \",buf)\n",
    "client.on_log=on_log"
   ]
  },
  {
   "cell_type": "code",
   "execution_count": 37,
   "metadata": {},
   "outputs": [
    {
     "name": "stdout",
     "output_type": "stream",
     "text": [
      "log:  Received CONNACK (0, 0)\n",
      "log:  Received SUBACK\n"
     ]
    }
   ],
   "source": [
    "client.loop_start()"
   ]
  },
  {
   "cell_type": "code",
   "execution_count": 34,
   "metadata": {},
   "outputs": [],
   "source": [
    "client.loop_stop()"
   ]
  },
  {
   "cell_type": "code",
   "execution_count": 38,
   "metadata": {},
   "outputs": [
    {
     "name": "stdout",
     "output_type": "stream",
     "text": [
      "log: log:  Received PUBLISH (d0, q0, r0, m0), '05555666/', ...  (13 bytes)\n",
      "message received  (100,100,100)\n",
      "message topic= 05555666/\n",
      "message qos= 0\n",
      "message retain flag= 0\n",
      " Received PUBLISH (d0, q0, r0, m0), '05555666/', ...  (13 bytes)\n",
      "message received  (100,100,100)\n",
      "message topic= 05555666/\n",
      "message qos= 0\n",
      "message retain flag= 0\n",
      "log: log:  Sending PINGREQ\n",
      "log:  Received PINGRESP\n",
      " Sending PINGREQ\n",
      "log:  Received PINGRESP\n"
     ]
    },
    {
     "ename": "KeyboardInterrupt",
     "evalue": "",
     "output_type": "error",
     "traceback": [
      "\u001b[1;31m---------------------------------------------------------------------------\u001b[0m",
      "\u001b[1;31mKeyboardInterrupt\u001b[0m                         Traceback (most recent call last)",
      "\u001b[1;32m<ipython-input-38-331526b62073>\u001b[0m in \u001b[0;36m<module>\u001b[1;34m()\u001b[0m\n\u001b[1;32m----> 1\u001b[1;33m \u001b[0mclient\u001b[0m\u001b[1;33m.\u001b[0m\u001b[0mloop_forever\u001b[0m\u001b[1;33m(\u001b[0m\u001b[1;33m)\u001b[0m\u001b[1;33m\u001b[0m\u001b[0m\n\u001b[0m",
      "\u001b[1;32mc:\\ProgramData\\Anaconda3\\lib\\site-packages\\paho_mqtt-1.4.0.dev0-py3.6.egg\\paho\\mqtt\\client.py\u001b[0m in \u001b[0;36mloop_forever\u001b[1;34m(self, timeout, max_packets, retry_first_connection)\u001b[0m\n\u001b[0;32m   1576\u001b[0m             \u001b[0mrc\u001b[0m \u001b[1;33m=\u001b[0m \u001b[0mMQTT_ERR_SUCCESS\u001b[0m\u001b[1;33m\u001b[0m\u001b[0m\n\u001b[0;32m   1577\u001b[0m             \u001b[1;32mwhile\u001b[0m \u001b[0mrc\u001b[0m \u001b[1;33m==\u001b[0m \u001b[0mMQTT_ERR_SUCCESS\u001b[0m\u001b[1;33m:\u001b[0m\u001b[1;33m\u001b[0m\u001b[0m\n\u001b[1;32m-> 1578\u001b[1;33m                 \u001b[0mrc\u001b[0m \u001b[1;33m=\u001b[0m \u001b[0mself\u001b[0m\u001b[1;33m.\u001b[0m\u001b[0mloop\u001b[0m\u001b[1;33m(\u001b[0m\u001b[0mtimeout\u001b[0m\u001b[1;33m,\u001b[0m \u001b[0mmax_packets\u001b[0m\u001b[1;33m)\u001b[0m\u001b[1;33m\u001b[0m\u001b[0m\n\u001b[0m\u001b[0;32m   1579\u001b[0m                 \u001b[1;31m# We don't need to worry about locking here, because we've\u001b[0m\u001b[1;33m\u001b[0m\u001b[1;33m\u001b[0m\u001b[0m\n\u001b[0;32m   1580\u001b[0m                 \u001b[1;31m# either called loop_forever() when in single threaded mode, or\u001b[0m\u001b[1;33m\u001b[0m\u001b[1;33m\u001b[0m\u001b[0m\n",
      "\u001b[1;32mc:\\ProgramData\\Anaconda3\\lib\\site-packages\\paho_mqtt-1.4.0.dev0-py3.6.egg\\paho\\mqtt\\client.py\u001b[0m in \u001b[0;36mloop\u001b[1;34m(self, timeout, max_packets)\u001b[0m\n\u001b[0;32m   1055\u001b[0m         \u001b[0mrlist\u001b[0m \u001b[1;33m=\u001b[0m \u001b[1;33m[\u001b[0m\u001b[0mself\u001b[0m\u001b[1;33m.\u001b[0m\u001b[0m_sock\u001b[0m\u001b[1;33m,\u001b[0m \u001b[0mself\u001b[0m\u001b[1;33m.\u001b[0m\u001b[0m_sockpairR\u001b[0m\u001b[1;33m]\u001b[0m\u001b[1;33m\u001b[0m\u001b[0m\n\u001b[0;32m   1056\u001b[0m         \u001b[1;32mtry\u001b[0m\u001b[1;33m:\u001b[0m\u001b[1;33m\u001b[0m\u001b[0m\n\u001b[1;32m-> 1057\u001b[1;33m             \u001b[0msocklist\u001b[0m \u001b[1;33m=\u001b[0m \u001b[0mselect\u001b[0m\u001b[1;33m.\u001b[0m\u001b[0mselect\u001b[0m\u001b[1;33m(\u001b[0m\u001b[0mrlist\u001b[0m\u001b[1;33m,\u001b[0m \u001b[0mwlist\u001b[0m\u001b[1;33m,\u001b[0m \u001b[1;33m[\u001b[0m\u001b[1;33m]\u001b[0m\u001b[1;33m,\u001b[0m \u001b[0mtimeout\u001b[0m\u001b[1;33m)\u001b[0m\u001b[1;33m\u001b[0m\u001b[0m\n\u001b[0m\u001b[0;32m   1058\u001b[0m         \u001b[1;32mexcept\u001b[0m \u001b[0mTypeError\u001b[0m\u001b[1;33m:\u001b[0m\u001b[1;33m\u001b[0m\u001b[0m\n\u001b[0;32m   1059\u001b[0m             \u001b[1;31m# Socket isn't correct type, in likelihood connection is lost\u001b[0m\u001b[1;33m\u001b[0m\u001b[1;33m\u001b[0m\u001b[0m\n",
      "\u001b[1;31mKeyboardInterrupt\u001b[0m: "
     ]
    },
    {
     "name": "stdout",
     "output_type": "stream",
     "text": [
      "log:  Sending PINGREQ\n",
      "log:  Received PINGRESP\n",
      "log:  Sending PINGREQ\n",
      "log:  Received PINGRESP\n",
      "log:  Sending PINGREQ\n",
      "log:  Received PINGRESP\n",
      "log:  Sending PINGREQ\n",
      "log:  Received PINGRESP\n",
      "log:  Sending PINGREQ\n",
      "log:  Received PINGRESP\n",
      "log:  Sending PINGREQ\n",
      "log:  Received PINGRESP\n"
     ]
    }
   ],
   "source": [
    "client.loop_forever()"
   ]
  },
  {
   "cell_type": "code",
   "execution_count": null,
   "metadata": {},
   "outputs": [],
   "source": []
  }
 ],
 "metadata": {
  "kernelspec": {
   "display_name": "Python 3",
   "language": "python",
   "name": "python3"
  },
  "language_info": {
   "codemirror_mode": {
    "name": "ipython",
    "version": 3
   },
   "file_extension": ".py",
   "mimetype": "text/x-python",
   "name": "python",
   "nbconvert_exporter": "python",
   "pygments_lexer": "ipython3",
   "version": "3.6.8"
  }
 },
 "nbformat": 4,
 "nbformat_minor": 2
}
