{
 "cells": [
  {
   "cell_type": "code",
   "execution_count": 11,
   "metadata": {},
   "outputs": [
    {
     "name": "stdout",
     "output_type": "stream",
     "text": [
      "\u001b[34mConnecting to --port=/dev/ttyUSB1 --baud=115200 \u001b[0m\n",
      "\u001b[34mReady.\n",
      "\u001b[0m"
     ]
    }
   ],
   "source": [
    "%serialconnect to --port=/dev/ttyUSB1 --baud=115200"
   ]
  },
  {
   "cell_type": "code",
   "execution_count": 12,
   "metadata": {},
   "outputs": [],
   "source": [
    "import machine\n",
    "import neopixel\n",
    "import utime"
   ]
  },
  {
   "cell_type": "code",
   "execution_count": 3,
   "metadata": {},
   "outputs": [
    {
     "name": "stdout",
     "output_type": "stream",
     "text": [
      "object <module 'neopixel'> is of type module\n",
      "  NeoPixel -- <class 'NeoPixel'>\n",
      "  __name__ -- neopixel\n",
      "  neopixel_write -- <function>\n"
     ]
    }
   ],
   "source": [
    "help(neopixel)"
   ]
  },
  {
   "cell_type": "markdown",
   "metadata": {},
   "source": [
    "# Test des Neopixels"
   ]
  },
  {
   "cell_type": "code",
   "execution_count": 13,
   "metadata": {},
   "outputs": [],
   "source": [
    "n=neopixel.NeoPixel(machine.Pin(4),2)"
   ]
  },
  {
   "cell_type": "code",
   "execution_count": 28,
   "metadata": {},
   "outputs": [],
   "source": [
    "n[1]=(200,100,100)"
   ]
  },
  {
   "cell_type": "code",
   "execution_count": 34,
   "metadata": {},
   "outputs": [],
   "source": [
    "n[0]=(100,00,00)"
   ]
  },
  {
   "cell_type": "code",
   "execution_count": 20,
   "metadata": {},
   "outputs": [],
   "source": [
    "n[1]=(100,00,00)"
   ]
  },
  {
   "cell_type": "code",
   "execution_count": 36,
   "metadata": {},
   "outputs": [],
   "source": [
    "n[0]=(255,00,00)"
   ]
  },
  {
   "cell_type": "code",
   "execution_count": 38,
   "metadata": {},
   "outputs": [],
   "source": [
    "n[0]=(00,50,00)"
   ]
  },
  {
   "cell_type": "code",
   "execution_count": 26,
   "metadata": {},
   "outputs": [],
   "source": [
    "n[0]=(0,0,0)"
   ]
  },
  {
   "cell_type": "code",
   "execution_count": 30,
   "metadata": {},
   "outputs": [],
   "source": [
    "n[0]=(0,0,100)"
   ]
  },
  {
   "cell_type": "code",
   "execution_count": 24,
   "metadata": {},
   "outputs": [],
   "source": [
    "n[1]=(0,0,100)"
   ]
  },
  {
   "cell_type": "code",
   "execution_count": 29,
   "metadata": {},
   "outputs": [],
   "source": [
    "n.write()"
   ]
  },
  {
   "cell_type": "code",
   "execution_count": 31,
   "metadata": {},
   "outputs": [],
   "source": [
    "def blink(leds,pos,color=(100,100,100)):\n",
    "    on=color\n",
    "    off=(0,0,0)\n",
    "    utime.sleep_ms(500)\n",
    "    leds[pos]=color\n",
    "    leds.write()\n",
    "    utime.sleep_ms(500)\n",
    "    leds[pos]=off\n",
    "    leds.write()"
   ]
  },
  {
   "cell_type": "code",
   "execution_count": 33,
   "metadata": {},
   "outputs": [
    {
     "name": "stdout",
     "output_type": "stream",
     "text": [
      ".......\u001b[34m\n",
      "\n",
      "*** Sending Ctrl-C\n",
      "\n",
      "\u001b[0m"
     ]
    },
    {
     "name": "stderr",
     "output_type": "stream",
     "text": [
      "Traceback (most recent call last):\n",
      "  File \"<stdin>\", line 3, in <module>\n",
      "  File \"<stdin>\", line 7, in blink\n",
      "KeyboardInterrupt: \n"
     ]
    }
   ],
   "source": [
    "while 1:\n",
    "    blink(n,1)\n",
    "    blink(n,0)\n"
   ]
  },
  {
   "cell_type": "markdown",
   "metadata": {},
   "source": [
    "# Connection au réseau wifi"
   ]
  },
  {
   "cell_type": "code",
   "execution_count": 34,
   "metadata": {},
   "outputs": [],
   "source": [
    "import network"
   ]
  },
  {
   "cell_type": "code",
   "execution_count": 35,
   "metadata": {},
   "outputs": [],
   "source": [
    "sta_if = network.WLAN(network.STA_IF)"
   ]
  },
  {
   "cell_type": "code",
   "execution_count": 36,
   "metadata": {},
   "outputs": [],
   "source": [
    "sta_if.active(True)"
   ]
  },
  {
   "cell_type": "code",
   "execution_count": 37,
   "metadata": {},
   "outputs": [
    {
     "name": "stdout",
     "output_type": "stream",
     "text": [
      "[(b'raspi-poste1', b\"\\xb8'\\xeb\\xb1=u\", 1, -25, 3, False), (b'Fablab-inspirateur', b'\\xb0\\x98+\\xcb\\xc9n', 1, -58, 4, False), (b'orange', b'\\xb2\\x98+\\xcb\\xc9n', 1, -58, 0, False)]\n"
     ]
    }
   ],
   "source": [
    "print(sta_if.scan())"
   ]
  },
  {
   "cell_type": "code",
   "execution_count": 38,
   "metadata": {},
   "outputs": [],
   "source": [
    "sta_if.connect(\"raspi-poste1\",\"Burkert67\")"
   ]
  },
  {
   "cell_type": "markdown",
   "metadata": {},
   "source": [
    "# Client MQTT"
   ]
  },
  {
   "cell_type": "code",
   "execution_count": 42,
   "metadata": {},
   "outputs": [],
   "source": [
    "from umqtt.simple import MQTTClient"
   ]
  },
  {
   "cell_type": "code",
   "execution_count": 43,
   "metadata": {},
   "outputs": [],
   "source": [
    "client = MQTTClient('esp32_01','10.3.141.1')\n",
    "client.connect()"
   ]
  },
  {
   "cell_type": "code",
   "execution_count": 62,
   "metadata": {},
   "outputs": [],
   "source": [
    "def sub_cb(topic,payload):\n",
    "    print(topic,payload)\n",
    "    if topic==b\"off\":\n",
    "        n[0]=(0,0,0)\n",
    "        n[1]=(0,0,0)\n",
    "        \n",
    "    if topic==b\"1\":\n",
    "        n[0]=(100,100,100)\n",
    "    if topic==b\"2\":\n",
    "        n[1]=(100,100,100)\n",
    "    n.write()"
   ]
  },
  {
   "cell_type": "code",
   "execution_count": 63,
   "metadata": {},
   "outputs": [],
   "source": [
    "client.set_callback(sub_cb)"
   ]
  },
  {
   "cell_type": "code",
   "execution_count": 64,
   "metadata": {},
   "outputs": [],
   "source": [
    "client.subscribe(b\"1\")\n",
    "client.subscribe(b\"2\")\n",
    "client.subscribe(b\"off\")\n"
   ]
  },
  {
   "cell_type": "code",
   "execution_count": 68,
   "metadata": {},
   "outputs": [],
   "source": [
    "client.publish(\"esp32_01\",\"ok\")"
   ]
  },
  {
   "cell_type": "code",
   "execution_count": 69,
   "metadata": {},
   "outputs": [
    {
     "name": "stdout",
     "output_type": "stream",
     "text": [
      "..............b'1' b'1'\n",
      "........b'off' b''\n",
      ".......b'1' b''\n",
      "b'1' b''\n",
      ".b'off' b''\n",
      "....b'2' b''\n",
      "..b'1' b''\n",
      ".b'2' b''\n",
      "b'2' b''\n",
      "b'2' b''\n",
      "b'2' b''\n",
      "b'2' b''\n",
      "b'off' b''\n",
      "b'1' b''\n",
      "b'off' b''\n",
      "b'2' b''\n",
      "..................b'1' b''\n",
      ".b'off' b''\n",
      "b'2' b''\n",
      ".b'off' b''\n",
      "b'1' b''\n",
      "b'off' b''\n",
      "b'1' b''\n",
      ".b'off' b''\n",
      "b'2' b''\n",
      "b'off' b''\n",
      "..........................................\u001b[34m\n",
      "\n",
      "*** Sending Ctrl-C\n",
      "\n",
      "\u001b[0m"
     ]
    },
    {
     "name": "stderr",
     "output_type": "stream",
     "text": [
      "Traceback (most recent call last):\n",
      "  File \"<stdin>\", line 2, in <module>\n",
      "  File \"umqtt/simple.py\", line 204, in check_msg\n",
      "  File \"umqtt/simple.py\", line 170, in wait_msg\n",
      "KeyboardInterrupt: \n"
     ]
    }
   ],
   "source": [
    "while 1 :\n",
    "    client.check_msg()"
   ]
  },
  {
   "cell_type": "markdown",
   "metadata": {},
   "source": [
    "# "
   ]
  }
 ],
 "metadata": {
  "kernelspec": {
   "display_name": "MicroPython - USB",
   "language": "micropython",
   "name": "micropython"
  },
  "language_info": {
   "codemirror_mode": "python",
   "file_extension": ".py",
   "mimetype": "text/python",
   "name": "micropython"
  }
 },
 "nbformat": 4,
 "nbformat_minor": 2
}
